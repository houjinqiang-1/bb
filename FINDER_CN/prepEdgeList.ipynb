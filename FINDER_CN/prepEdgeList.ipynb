{
 "cells": [
  {
   "cell_type": "code",
   "execution_count": 1,
   "id": "11023c8f-4cee-4dfa-8a35-bd5d6a38b382",
   "metadata": {},
   "outputs": [],
   "source": [
    "import networkx as nx\n",
    "import numpy as np\n",
    "import random\n",
    "import os\n",
    "\n",
    "data_path = os.path.join(\"..\", \"..\", \"data\")\n",
    "#data_name = ['ba_space_100']\n",
    "data_name = ['day20']\n",
    "save_dir = os.path.join(\"..\", \"..\", \"data\")"
   ]
  },
  {
   "cell_type": "code",
   "execution_count": 2,
   "id": "338488c9-d732-4b24-b490-abdf9df7a8e9",
   "metadata": {},
   "outputs": [],
   "source": [
    "i = 0\n",
    "data = os.path.join(data_path , data_name[i] + '.edgelist')\n",
    "g = nx.read_edgelist(data)\n"
   ]
  },
  {
   "cell_type": "code",
   "execution_count": 15,
   "id": "0aecfb85-c20a-437a-a50a-fe21686d0175",
   "metadata": {},
   "outputs": [],
   "source": [
    "nodes = g.nodes()\n",
    "nodes_l = list(nodes)\n",
    "nodes_l_map = map(int, nodes_l)\n",
    "nodes_l_int = list(nodes_l_map)\n",
    "nodes_l_int.sort()\n",
    "\n",
    "nodes_l_map = map(str, nodes_l_int)\n",
    "nodes_l = list(nodes_l_map)\n",
    "\n"
   ]
  },
  {
   "cell_type": "code",
   "execution_count": 19,
   "id": "92661a20-1210-44f1-9096-c1c1c19ecc0e",
   "metadata": {},
   "outputs": [],
   "source": [
    "new_node_labels = {}\n",
    "for i in range(len(nodes_l)):\n",
    "    new_node_labels[nodes_l[i]] = str(i)\n",
    "    "
   ]
  },
  {
   "cell_type": "code",
   "execution_count": 24,
   "id": "5a9df031-b767-4964-9386-5c9edbb44546",
   "metadata": {},
   "outputs": [],
   "source": [
    "new_g = nx.relabel_nodes(g, new_node_labels)"
   ]
  },
  {
   "cell_type": "code",
   "execution_count": 23,
   "id": "99de77b6-e830-4590-b46d-50bf18b5541e",
   "metadata": {},
   "outputs": [
    {
     "ename": "NameError",
     "evalue": "name 'new_g' is not defined",
     "output_type": "error",
     "traceback": [
      "\u001b[1;31m---------------------------------------------------------------------------\u001b[0m",
      "\u001b[1;31mNameError\u001b[0m                                 Traceback (most recent call last)",
      "\u001b[1;32m~\\AppData\\Local\\Temp\\ipykernel_33128\\4281995313.py\u001b[0m in \u001b[0;36m<module>\u001b[1;34m\u001b[0m\n\u001b[1;32m----> 1\u001b[1;33m \u001b[0mnx\u001b[0m\u001b[1;33m.\u001b[0m\u001b[0mwrite_edgelist\u001b[0m\u001b[1;33m(\u001b[0m\u001b[0mnew_g\u001b[0m\u001b[1;33m,\u001b[0m \u001b[0mos\u001b[0m\u001b[1;33m.\u001b[0m\u001b[0mpath\u001b[0m\u001b[1;33m.\u001b[0m\u001b[0mjoin\u001b[0m\u001b[1;33m(\u001b[0m\u001b[0msave_dir\u001b[0m\u001b[1;33m,\u001b[0m \u001b[1;34m\"day20_modified.edgelist\"\u001b[0m\u001b[1;33m)\u001b[0m\u001b[1;33m)\u001b[0m\u001b[1;33m\u001b[0m\u001b[1;33m\u001b[0m\u001b[0m\n\u001b[0m",
      "\u001b[1;31mNameError\u001b[0m: name 'new_g' is not defined"
     ]
    }
   ],
   "source": [
    "nx.write_edgelist(new_g, os.path.join(save_dir, \"day20_modified.edgelist\"))"
   ]
  },
  {
   "cell_type": "code",
   "execution_count": null,
   "id": "35a9cf1f-12db-47a9-bb6e-07986299355c",
   "metadata": {},
   "outputs": [],
   "source": []
  }
 ],
 "metadata": {
  "kernelspec": {
   "display_name": "Python 3 (ipykernel)",
   "language": "python",
   "name": "python3"
  },
  "language_info": {
   "codemirror_mode": {
    "name": "ipython",
    "version": 3
   },
   "file_extension": ".py",
   "mimetype": "text/x-python",
   "name": "python",
   "nbconvert_exporter": "python",
   "pygments_lexer": "ipython3",
   "version": "3.7.11"
  }
 },
 "nbformat": 4,
 "nbformat_minor": 5
}
